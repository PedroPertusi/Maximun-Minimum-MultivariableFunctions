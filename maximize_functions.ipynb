{
 "cells": [
  {
   "cell_type": "code",
   "execution_count": 1,
   "metadata": {},
   "outputs": [],
   "source": [
    "def minimize_2var_func(x0, y0, f, grad, alpha, precision):\n",
    "    delx, dely = grad(x0, y0)\n",
    "    x1 = x0 + alpha*-1*delx\n",
    "    y1 = y0 + alpha*-1*dely\n",
    "\n",
    "    iteracoes = 1\n",
    "    while abs(x1 - x0) > precision and abs(y1 - y0) > precision:\n",
    "        x0 = x1\n",
    "        y0 = y1\n",
    "        delx, dely = grad(x0, y0)\n",
    "        x1 = x0 + alpha*-1*delx\n",
    "        y1 = y0 + alpha*-1*dely\n",
    "        iteracoes += 1\n",
    "    \n",
    "    return x0, y0, f(x0, y0), iteracoes\n",
    "\n",
    "def maximize_2var_func(x0, y0, f, grad, alpha, precision):\n",
    "    delx, dely = grad(x0, y0)\n",
    "    x1 = x0 + alpha*delx\n",
    "    y1 = y0 + alpha*dely\n",
    "\n",
    "    iteracoes = 1\n",
    "    while abs(x1 - x0) > precision and abs(y1 - y0) > precision:\n",
    "        x0 = x1\n",
    "        y0 = y1\n",
    "        delx, dely = grad(x0, y0)\n",
    "        x1 = x0 + alpha*delx\n",
    "        y1 = y0 + alpha*dely\n",
    "        iteracoes += 1\n",
    "    \n",
    "    return x0, y0, f(x0, y0), iteracoes"
   ]
  },
  {
   "cell_type": "code",
   "execution_count": 2,
   "metadata": {},
   "outputs": [],
   "source": [
    "def gradient(x, y):\n",
    "    return [6*x + 3*y + 1, 3*x + 4*y + 1]\n",
    "\n",
    "def function(x, y):\n",
    "    return (3 * (x**2)) + (3 * x * y) + (2 * (y**2)) + x + y"
   ]
  },
  {
   "cell_type": "code",
   "execution_count": 3,
   "metadata": {},
   "outputs": [
    {
     "data": {
      "text/plain": [
       "(-0.06671486137110971, -0.19993313341945276, -0.1333333270907108, 37)"
      ]
     },
     "execution_count": 3,
     "metadata": {},
     "output_type": "execute_result"
    }
   ],
   "source": [
    "minimize_2var_func(0, 0, function, gradient, 0.1, 10**(-5))"
   ]
  },
  {
   "cell_type": "code",
   "execution_count": 4,
   "metadata": {},
   "outputs": [
    {
     "name": "stdout",
     "output_type": "stream",
     "text": [
      "(1.5460972463784461, -1.5641379893241454, 2.828999745276761, 125)\n",
      "(1.5460961680122989, 1.5641365673822754, 2.8289997455553983, 124)\n"
     ]
    }
   ],
   "source": [
    "import numpy as np\n",
    "\n",
    "def gradient(x, y):\n",
    "    delx = x * (1/np.sqrt(x**2 + y**2 + 1) + 2 * np.e**(-(y**2)) + 2) - 4\n",
    "    dely = y/np.sqrt(x**2 + y**2 + 1) - 2 * x**2 * np.e**(-(y**2))*y\n",
    "    return [delx, dely]\n",
    "\n",
    "def function(x, y):\n",
    "    return np.sqrt(x**2 + y**2 + 1) + (x**2 * np.e**(-(y**2))) + (x - 2)**2\n",
    "\n",
    "\n",
    "print(minimize_2var_func(-0.1, -0.1, function, gradient, 0.1, 10**(-5)))\n",
    "print(minimize_2var_func(0.1, 0.1, function, gradient, 0.1, 10**(-5)))"
   ]
  },
  {
   "cell_type": "code",
   "execution_count": 38,
   "metadata": {},
   "outputs": [
    {
     "name": "stdout",
     "output_type": "stream",
     "text": [
      "(5.511506203443253e-06, 9.679233843170952e-06, 6.000006781012079, 11)\n",
      "(1.8383261266233608, 2.8338353568997423, 2.659755914118903, 20)\n"
     ]
    }
   ],
   "source": [
    "def function(x,y):\n",
    "    return 4*np.e**(-(x**2)-(y**2)) + 3*np.e**(-(x**2)-(y**2)+4*x+6*y-13) - ((x**2)/4) - ((y**2)/6) + 2\n",
    "\n",
    "def gradient(x, y):\n",
    "    delx = -6 * (x-2) * np.e ** (-(x**2)+ 4*x - (y**2) + 6*y - 13) - 8 * x * np.e ** (-(x**2)-(y**2)) - x/2\n",
    "    dely = -6 * (y-3) * np.e ** (-(x**2)+ 4*x - (y**2) + 6*y - 13) - 8 * y * np.e ** (-(x**2)-(y**2)) - y/3\n",
    "    return [delx, dely]\n",
    "\n",
    "\n",
    "print(maximize_2var_func(1, 1, function, gradient, 0.1, 10**(-5)))\n",
    "print(maximize_2var_func(4, 4, function, gradient, 0.1, 10**(-5)))"
   ]
  }
 ],
 "metadata": {
  "kernelspec": {
   "display_name": "Python 3.10.4 64-bit",
   "language": "python",
   "name": "python3"
  },
  "language_info": {
   "codemirror_mode": {
    "name": "ipython",
    "version": 3
   },
   "file_extension": ".py",
   "mimetype": "text/x-python",
   "name": "python",
   "nbconvert_exporter": "python",
   "pygments_lexer": "ipython3",
   "version": "3.10.4"
  },
  "orig_nbformat": 4,
  "vscode": {
   "interpreter": {
    "hash": "131e3bae2b6f65df51299925ad1c5807def7472730ea16fcc259ec2d3cca7736"
   }
  }
 },
 "nbformat": 4,
 "nbformat_minor": 2
}
