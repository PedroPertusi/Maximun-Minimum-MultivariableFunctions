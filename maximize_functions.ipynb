{
 "cells": [
  {
   "cell_type": "markdown",
   "metadata": {},
   "source": [
    "# MINIPROJETO - OTIMIZAÇÃO PELO VETOR GRADIENTE\n",
    "### ALUNOS:\n",
    "* JOÃO LUCAS CADORNIGA\n",
    "* PEDRO VAZ DE MORAES PERTUSI"
   ]
  },
  {
   "cell_type": "markdown",
   "metadata": {},
   "source": [
    "# Tarefa 1\n",
    "### Considere a função f dada pela lei: &nbsp;&nbsp;&nbsp; $ f(x,y) = 3x^2 + 3xy + 2y^2 + x + y$ <br>\n",
    "### Vetor Gradiente de Ponto Genérico: &nbsp;&nbsp;&nbsp; $ \\nabla f(x,y) = (6x + 3y + 1;3x + 4y + 1) $\n",
    "<br>\n",
    "### Gráfico no GeoGebra:\n",
    "<img src=\"Captura de Tela 2022-11-11 às 16.20.07.png\"/>"
   ]
  },
  {
   "cell_type": "markdown",
   "metadata": {},
   "source": [
    "## Função que Calcula o Ponto Máximo da Função:\n"
   ]
  },
  {
   "cell_type": "code",
   "execution_count": 33,
   "metadata": {},
   "outputs": [],
   "source": [
    "def maximize_2var_func(x0, y0, f, grad, alpha, precision):\n",
    "    delx, dely = grad(x0, y0)\n",
    "    x1 = x0 + alpha*delx\n",
    "    y1 = y0 + alpha*dely\n",
    "\n",
    "    iteracoes = 1\n",
    "    while abs(x1 - x0) > precision and abs(y1 - y0) > precision:\n",
    "        x0 = x1\n",
    "        y0 = y1\n",
    "        delx, dely = grad(x0, y0)\n",
    "        x1 = x0 + alpha*delx\n",
    "        y1 = y0 + alpha*dely\n",
    "        iteracoes += 1\n",
    "    \n",
    "    return x0, y0, f(x0, y0), iteracoes"
   ]
  },
  {
   "cell_type": "markdown",
   "metadata": {},
   "source": [
    "## Função que Calcula o Ponto Mínimo da Função:"
   ]
  },
  {
   "cell_type": "code",
   "execution_count": 34,
   "metadata": {},
   "outputs": [],
   "source": [
    "def minimize_2var_func(x0, y0, f, grad, alpha, precision):\n",
    "    delx, dely = grad(x0, y0)\n",
    "    x1 = x0 + alpha*-1*delx\n",
    "    y1 = y0 + alpha*-1*dely\n",
    "\n",
    "    iteracoes = 1\n",
    "    while abs(x1 - x0) > precision and abs(y1 - y0) > precision:\n",
    "        x0 = x1\n",
    "        y0 = y1\n",
    "        delx, dely = grad(x0, y0)\n",
    "        x1 = x0 + alpha*-1*delx\n",
    "        y1 = y0 + alpha*-1*dely\n",
    "        iteracoes += 1\n",
    "    \n",
    "    return x0, y0, f(x0, y0), iteracoes"
   ]
  },
  {
   "cell_type": "markdown",
   "metadata": {},
   "source": [
    "### Função e Gradiente em Python"
   ]
  },
  {
   "cell_type": "code",
   "execution_count": 50,
   "metadata": {},
   "outputs": [],
   "source": [
    "def gradient(x, y):\n",
    "    return [6*x + 3*y + 1, 3*x + 4*y + 1]\n",
    "\n",
    "def function(x, y):\n",
    "    return (3 * (x**2)) + (3 * x * y) + (2 * (y**2)) + x + y"
   ]
  },
  {
   "cell_type": "markdown",
   "metadata": {},
   "source": [
    "### c) Achando ponto de mínimo para | $\\alpha$ = 0,1 | Ponto Inicial(Xo,Yo) = (0,0) | Precisão 10<sup>-5</sup>"
   ]
  },
  {
   "cell_type": "code",
   "execution_count": 51,
   "metadata": {},
   "outputs": [
    {
     "name": "stdout",
     "output_type": "stream",
     "text": [
      "Valor do Mínimo de f(x): (-0.06671486137110971; -0.19993313341945276; -0.1333333270907108) - Em 37 Interações\n"
     ]
    }
   ],
   "source": [
    "x,y,z,interacoes = minimize_2var_func(0, 0, function, gradient, 0.1, 10**(-5))\n",
    "print(f'Valor do Mínimo de f(x): ({x}; {y}; {z}) - Em {interacoes} Interações')"
   ]
  },
  {
   "cell_type": "markdown",
   "metadata": {},
   "source": [
    "### d) Repetindo o processo do ponto de mínimo para | $\\alpha$ = 0,15 | $\\alpha$ = 0,2 | $\\alpha$ = 0,3 | $\\alpha$ = 0,5 | <br>\n",
    "\n",
    "##### Abaixo repetimos o procedimento aumentando o $\\alpha$, logo aumentando os passos utilizados. Com isso, percebemos que para um $\\alpha$ grande isso leva o programa a divergir muito do minimo, fugindo assim cada vez mas do valor, no computador levando a um erro de overflow (estouro na memória) por conta de fugir infinitamente do mínimo. De forma análoga, um $\\alpha$ muito pequeno pode levar o nosso programa demorar muitas interacoes para chegar no mínimo esperado, apesar de conseguir assim uma precisão maior.\n"
   ]
  },
  {
   "cell_type": "code",
   "execution_count": 52,
   "metadata": {},
   "outputs": [
    {
     "name": "stdout",
     "output_type": "stream",
     "text": [
      "Valor do Mínimo de f(x): (-0.06669803079239797; -0.1999564846000459; -0.13333333068949554) - Em 25 Interações\n",
      "Valor do Mínimo de f(x): (-0.06668064768000002; -0.2; -0.1333333327469271) - Em 22 Interações\n",
      "Valor do Mínimo de f(x): (inf; inf; erro) - Em inf Interações\n",
      "Valor do Mínimo de f(x): (inf; inf; erro) - Em inf Interações\n"
     ]
    }
   ],
   "source": [
    "from math import inf\n",
    "x,y,z,interacoes = minimize_2var_func(0, 0, function, gradient, 0.15, 10**(-5))\n",
    "print(f'Valor do Mínimo de f(x): ({x}; {y}; {z}) - Em {interacoes} Interações')\n",
    "x,y,z,interacoes = minimize_2var_func(0, 0, function, gradient, 0.2, 10**(-5))\n",
    "print(f'Valor do Mínimo de f(x): ({x}; {y}; {z}) - Em {interacoes} Interações')\n",
    "# x,y,z,interacoes = minimize_2var_func(0, 0, function, gradient, 0.3, 10**(-5)) --> Erro \n",
    "print(f'Valor do Mínimo de f(x): ({inf}; {inf}; erro) - Em {inf} Interações')\n",
    "#x,y,z,interacoes = minimize_2var_func(0, 0, function, gradient, 0.5, 10**(-5)) --> Erro\n",
    "print(f'Valor do Mínimo de f(x): ({inf}; {inf}; erro) - Em {inf} Interações')"
   ]
  },
  {
   "cell_type": "markdown",
   "metadata": {},
   "source": [
    "# Tarefa 2\n",
    "### Considere a função f dada pela lei: &nbsp;&nbsp;&nbsp; $g(x,y) = \\sqrt{ x^2 + y^2 + 1 } + x^2 ℯ^{-y^2} + (x-2)^2$ <br>\n",
    "### Vetor Gradiente de Ponto Genérico: &nbsp;&nbsp;&nbsp; $ ∇g(x,y) = (x(1/\\sqrt{x^2 + y^2 + 1} -2x^2e^{-y^2} + 2) - 4 ; y/\\sqrt{x^2+y^2+1} -2x^2ye^{-yˆ2})$  <br>\n",
    "### Gráfico no GeoGebra:\n",
    "<img src=\"Captura de Tela 2022-11-11 às 16.19.31.png\"/>\n"
   ]
  },
  {
   "cell_type": "markdown",
   "metadata": {},
   "source": [
    "### Função e Gradiente em Python"
   ]
  },
  {
   "cell_type": "code",
   "execution_count": 53,
   "metadata": {},
   "outputs": [],
   "source": [
    "import numpy as np\n",
    "\n",
    "def gradient(x, y):\n",
    "    delx = x * (1/np.sqrt(x**2 + y**2 + 1) + 2 * np.e**(-(y**2)) + 2) - 4\n",
    "    dely = y/np.sqrt(x**2 + y**2 + 1) - 2 * x**2 * np.e**(-(y**2))*y\n",
    "    return [delx, dely]\n",
    "\n",
    "def function(x, y):\n",
    "    return np.sqrt(x**2 + y**2 + 1) + (x**2 * np.e**(-(y**2))) + (x - 2)**2"
   ]
  },
  {
   "cell_type": "markdown",
   "metadata": {},
   "source": [
    "### Achando ponto de mínimo para | $\\alpha$ = 0,1 | Ponto Inicial(Xo,Yo) = (-0.1,-0.1) | Precisão 10<sup>-5</sup>\n",
    "##### Para obter o ponto de mínimo foi necessário usar valores iniciais diferentes, isso correu por conta de o g(0,0) ser exatamente o ponto médio entre os dois mínimos, fazendo assim com que seja necessário pegar pontos difetentes do (0,0) para obter assim os dois mínimos (como mostrado abaixo)."
   ]
  },
  {
   "cell_type": "code",
   "execution_count": 54,
   "metadata": {},
   "outputs": [
    {
     "name": "stdout",
     "output_type": "stream",
     "text": [
      "Valor do Mínimo de f(x): (1.5460972463784461; -1.5641379893241454; 2.828999745276761) - Em 125 Interações\n"
     ]
    }
   ],
   "source": [
    "x,y,z,interacoes = minimize_2var_func(-0.1, -0.1, function, gradient, 0.1, 10**(-5))\n",
    "print(f'Valor do Mínimo de f(x): ({x}; {y}; {z}) - Em {interacoes} Interações')"
   ]
  },
  {
   "cell_type": "markdown",
   "metadata": {},
   "source": [
    "### Achando ponto de mínimo para | $\\alpha$ = 0,1 | Ponto Inicial(Xo,Yo) = (0.1,0.1) | Precisão 10<sup>-5</sup>"
   ]
  },
  {
   "cell_type": "code",
   "execution_count": 55,
   "metadata": {},
   "outputs": [
    {
     "name": "stdout",
     "output_type": "stream",
     "text": [
      "Valor do Mínimo de f(x): (1.5460961680122989; 1.5641365673822754; 2.8289997455553983) - Em 124 Interações\n"
     ]
    }
   ],
   "source": [
    "x,y,z,interacoes = minimize_2var_func(0.1, 0.1, function, gradient, 0.1, 10**(-5))\n",
    "print(f'Valor do Mínimo de f(x): ({x}; {y}; {z}) - Em {interacoes} Interações')"
   ]
  },
  {
   "cell_type": "markdown",
   "metadata": {},
   "source": [
    "# Tarefa 3\n",
    "#### Considere a função f dada pela lei: &nbsp;&nbsp;&nbsp; $h(x,y) = 4e^{-x^2-y^2} + 3e^{-x^2-y^2+4x+6y-13} - \\frac{x^2}{4} - \\frac{y^2}{6} +2 $ <br>\n",
    "#### Vetor Gradiente de Ponto Genérico: &nbsp;&nbsp;&nbsp; $ ∇h(x,y) = (-6(x-2)e^{-x^2+4x-y^2+6y-13} -8xe^{-x^2-y^2} - \\frac{x}{2};-6(y-3)e^{-x^2+4x-y^2+6y-13} -8ye^{-x^2-y^2} -\\frac{y}{3})$  <br>\n",
    "<img src=\"Captura de Tela 2022-11-11 às 16.18.34.png\"/>"
   ]
  },
  {
   "cell_type": "markdown",
   "metadata": {},
   "source": [
    "### Função e Gradiente em Python "
   ]
  },
  {
   "cell_type": "code",
   "execution_count": 56,
   "metadata": {},
   "outputs": [],
   "source": [
    "def function(x,y):\n",
    "    return 4*np.e**(-(x**2)-(y**2)) + 3*np.e**(-(x**2)-(y**2)+4*x+6*y-13) - ((x**2)/4) - ((y**2)/6) + 2\n",
    "\n",
    "def gradient(x, y):\n",
    "    delx = -6 * (x-2) * np.e ** (-(x**2)+ 4*x - (y**2) + 6*y - 13) - 8 * x * np.e ** (-(x**2)-(y**2)) - x/2\n",
    "    dely = -6 * (y-3) * np.e ** (-(x**2)+ 4*x - (y**2) + 6*y - 13) - 8 * y * np.e ** (-(x**2)-(y**2)) - y/3\n",
    "    return [delx, dely]"
   ]
  },
  {
   "cell_type": "markdown",
   "metadata": {},
   "source": [
    "### Achando ponto de mínimo para | $\\alpha$ = 0,1 | Ponto Inicial(Xo,Yo) = (1,1) | Precisão 10<sup>-5</sup>"
   ]
  },
  {
   "cell_type": "code",
   "execution_count": 57,
   "metadata": {},
   "outputs": [
    {
     "name": "stdout",
     "output_type": "stream",
     "text": [
      "Valor do Mínimo de f(x): (5.511506203443253e-06; 9.679233843170952e-06; 6.000006781012079) - Em 11 Interações\n"
     ]
    }
   ],
   "source": [
    "x,y,z,interacoes = maximize_2var_func(1, 1, function, gradient, 0.1, 10**(-5))\n",
    "print(f'Valor do Mínimo de f(x): ({x}; {y}; {z}) - Em {interacoes} Interações')"
   ]
  },
  {
   "cell_type": "markdown",
   "metadata": {},
   "source": [
    "### Achando ponto de mínimo para | $\\alpha$ = 0,1 | Ponto Inicial(Xo,Yo) = (4,4) | Precisão 10<sup>-5</sup>"
   ]
  },
  {
   "cell_type": "code",
   "execution_count": 58,
   "metadata": {},
   "outputs": [
    {
     "name": "stdout",
     "output_type": "stream",
     "text": [
      "Valor do Mínimo de f(x): (1.8383261266233608; 2.8338353568997423; 2.659755914118903) - Em 20 Interações\n"
     ]
    }
   ],
   "source": [
    "x,y,z,interacoes = maximize_2var_func(4, 4, function, gradient, 0.1, 10**(-5))\n",
    "print(f'Valor do Mínimo de f(x): ({x}; {y}; {z}) - Em {interacoes} Interações')"
   ]
  },
  {
   "cell_type": "markdown",
   "metadata": {},
   "source": [
    "# Tarefa Desafio - Passo Variável\n",
    "\n",
    "Para que possamos melhorar a eficiência das nossas funções maximizadoras e minimizadoras, precisamos utilizar os próprios parâmetros $x_0$, $y_0$, e as derivadas parciais da função, já que um passo fixo não nos permite adaptar a nossa mudança de acordo com a distância que estamos do ponto de máximo.\n",
    "\n",
    "Ao traçarmos o vetor gradiente no plano $xy$, criamos um plano vertical que intersecta a superfície gerada pela função $f$, formando uma curva. O ponto máximo dessa curva deve ser o nosso $\\alpha$, já que, portanto, será o mais próximo do máximo de $f$.\n",
    "\n",
    "Assim, para realizar esse cálculo, precisamos primeiro do gradiente (da função da tarefa 1) em $(x_0, y_0)$:\n",
    "\n",
    "$\\nabla f(x_0, y_0) = (6x_0 + 3y_0 + 1; 3x_0 + 4y_0 + 1)$\n",
    "\n",
    "Vamos chamar esses valores de $(a, b)$.\n",
    "\n",
    "Agora, considerando que $x_1 = x_0 + \\alpha * a$ e $y_1 = y_0 + \\alpha * b$, substituimos esses valores em $f$:\n",
    "\n",
    "$f(x_1, y_1) = 3(x_0 + \\alpha * a)² + 3(x_0 + \\alpha * a)(y_0 + \\alpha * b) + 2(y_0 + \\alpha * b)² + (x_0 + \\alpha * a) + (y_0 + \\alpha * b)$  \n",
    "\n",
    "Acabamos de obter $f(\\alpha)$! Como queremos maximizá-la, sua derivada deve ser 0:\n",
    "\n",
    "$f'(\\alpha) = 6 \\alpha a² + a + 6ab \\alpha + 6ax_0 + 3ay_0 + 4 \\alpha b² + b + 3bx_0 + 4by_0 = 0$\n",
    "\n",
    "Isolando $\\alpha$, encontramos:\n",
    "\n",
    "$\\alpha = \\frac{-6ax_0 - 3ay_0 - a - 3bx_0 - 4by_0 - b}{2(3a² + 3ab = 2b²)}$\n",
    "\n",
    "Tal que $a$ e $b$ são, respectivamente, as derivadas parciais em função de x e de y.\n",
    "\n",
    "Agora, vamos remontar as nossas funções, calculando $\\alpha$ a cada iteração. Perceba que o número de passos diminui de **37 para 9**."
   ]
  },
  {
   "cell_type": "code",
   "execution_count": 48,
   "metadata": {},
   "outputs": [
    {
     "name": "stdout",
     "output_type": "stream",
     "text": [
      "Alpha 1: 0.5\n",
      "Alpha 2: 0.125\n",
      "Alpha 3: 0.5\n",
      "Alpha 4: 0.125\n",
      "Alpha 5: 0.5\n",
      "Alpha 6: 0.125\n",
      "Alpha 7: 0.5\n",
      "Alpha 8: 0.125\n",
      "Valor do Mínimo de f(x): (-0.0666656494140625; -0.1999969482421875; -0.13333333330228925) - Em 9 Interações\n"
     ]
    }
   ],
   "source": [
    "def alpha(x0, y0, a, b):\n",
    "    num = -6*a*x0 + (-3*a*y0) - a + (-3*b*x0) + (-4*b*y0) - b\n",
    "    den = 2*(3*(a**2) + 3*a*b + 2*(b**2))\n",
    "    return abs(num/den)\n",
    "\n",
    "\n",
    "def minimize_2var_func_V2(x0, y0, f, grad, precision):\n",
    "    delx, dely = grad(x0, y0)\n",
    "    a = alpha(x0, y0, delx, dely)\n",
    "    x1 = x0 + a*-1*delx\n",
    "    y1 = y0 + a*-1*dely\n",
    "\n",
    "    iteracoes = 1\n",
    "    while abs(x1 - x0) > precision and abs(y1 - y0) > precision:\n",
    "        x0 = x1\n",
    "        y0 = y1\n",
    "        delx, dely = grad(x0, y0)\n",
    "        a = alpha(x0, y0, delx, dely)\n",
    "        print(f'Alpha {iteracoes}: {a}')\n",
    "        x1 = x0 + a*-1*delx\n",
    "        y1 = y0 + a*-1*dely\n",
    "        iteracoes += 1\n",
    "    \n",
    "    return x0, y0, f(x0, y0), iteracoes\n",
    "\n",
    "\n",
    "\n",
    "def maximize_2var_func_V2(x0, y0, f, grad, precision):\n",
    "    delx, dely = grad(x0, y0)\n",
    "    a = alpha(x0, y0, delx, dely)\n",
    "    x1 = x0 + a*delx\n",
    "    y1 = y0 + a*dely\n",
    "\n",
    "    iteracoes = 1\n",
    "    while abs(x1 - x0) > precision and abs(y1 - y0) > precision:\n",
    "        x0 = x1\n",
    "        y0 = y1\n",
    "        delx, dely = grad(x0, y0)\n",
    "        a = alpha(x0, y0, delx, dely)\n",
    "        print(f'Alpha: {a}')\n",
    "        x1 = x0 + a*delx\n",
    "        y1 = y0 + a*dely\n",
    "        iteracoes += 1\n",
    "    \n",
    "    return x0, y0, f(x0, y0), iteracoes\n",
    "\n",
    "\n",
    "\n",
    "def gradient(x, y):\n",
    "    return [6*\n",
    "    x + 3*y + 1, 3*x + 4*y + 1]\n",
    "\n",
    "def function(x, y):\n",
    "    return (3 * (x**2)) + (3 * x * y) + (2 * (y**2)) + x + y\n",
    "\n",
    "\n",
    "x,y,z,interacoes = minimize_2var_func_V2(0, 0, function, gradient, 10**(-5))\n",
    "print(f'Valor do Mínimo de f(x): ({x}; {y}; {z}) - Em {interacoes} Interações')"
   ]
  }
 ],
 "metadata": {
  "kernelspec": {
   "display_name": "Python 3.10.4 64-bit",
   "language": "python",
   "name": "python3"
  },
  "language_info": {
   "codemirror_mode": {
    "name": "ipython",
    "version": 3
   },
   "file_extension": ".py",
   "mimetype": "text/x-python",
   "name": "python",
   "nbconvert_exporter": "python",
   "pygments_lexer": "ipython3",
   "version": "3.10.4"
  },
  "orig_nbformat": 4,
  "vscode": {
   "interpreter": {
    "hash": "131e3bae2b6f65df51299925ad1c5807def7472730ea16fcc259ec2d3cca7736"
   }
  }
 },
 "nbformat": 4,
 "nbformat_minor": 2
}
